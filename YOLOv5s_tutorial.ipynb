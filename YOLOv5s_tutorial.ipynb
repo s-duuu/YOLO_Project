{
  "nbformat": 4,
  "nbformat_minor": 0,
  "metadata": {
    "colab": {
      "private_outputs": true,
      "provenance": [],
      "authorship_tag": "ABX9TyMu5kSf/FqvmQlBtPSHOIAG",
      "include_colab_link": true
    },
    "kernelspec": {
      "name": "python3",
      "display_name": "Python 3"
    },
    "language_info": {
      "name": "python"
    },
    "accelerator": "GPU"
  },
  "cells": [
    {
      "cell_type": "markdown",
      "metadata": {
        "id": "view-in-github",
        "colab_type": "text"
      },
      "source": [
        "<a href=\"https://colab.research.google.com/github/s-duuu/YOLO_Project/blob/main/YOLOv5s_tutorial.ipynb\" target=\"_parent\"><img src=\"https://colab.research.google.com/assets/colab-badge.svg\" alt=\"Open In Colab\"/></a>"
      ]
    },
    {
      "cell_type": "code",
      "source": [
        "# 런타임 -> 런타임 유형 변경 -> 하드웨어 가속기 GPU로 설정"
      ],
      "metadata": {
        "id": "wkvqkrk31liF"
      },
      "execution_count": null,
      "outputs": []
    },
    {
      "cell_type": "code",
      "execution_count": null,
      "metadata": {
        "id": "xflMM4mW0uZI"
      },
      "outputs": [],
      "source": [
        "# 구글 드라이브에 마운트\n",
        "from google.colab import drive\n",
        "drive.mount('/content/drive')"
      ]
    },
    {
      "cell_type": "code",
      "source": [
        "# 내 구글 드라이브로 이동\n",
        "# %cd \"/content/drive/MyDrive\"\n",
        "\n",
        "# YOLOv5 github repository clone\n",
        "!git clone https://github.com/ultralytics/yolov5.git\n",
        "\n",
        "# 필요한 모듈 설치\n",
        "!pip install -U -r yolov5/requirements.txt"
      ],
      "metadata": {
        "id": "4ms7lQGh1Qly"
      },
      "execution_count": null,
      "outputs": []
    },
    {
      "cell_type": "code",
      "source": [
        "import torch\n",
        "\n",
        "# 파이토치 버전 확인, cuda device properties 확인\n",
        "print('torch %s %s' % (torch.__version__, torch.cuda.geet_device_properties(0) if torch.cuda.is_available() else 'CPU'))\n",
        "\n",
        "# 여기서 CPU라고 출력된다면 런타임 -> 런타임 유형 변경 -> 하드웨어 가속기 GPU로 설정되어있는지 확인"
      ],
      "metadata": {
        "id": "_oXniWM2137W"
      },
      "execution_count": null,
      "outputs": []
    },
    {
      "cell_type": "code",
      "source": [
        "!mkdir datasets\n",
        "%cd /content/datasets/"
      ],
      "metadata": {
        "id": "wEKVZYD02UrH"
      },
      "execution_count": null,
      "outputs": []
    },
    {
      "cell_type": "code",
      "source": [
        "# Roboflow data (라벨링까지 다 되어있는 오픈소스 데이터셋) download\n",
        "!pip install roboflow\n",
        "\n",
        "from roboflow import Roboflow\n",
        "rf = Roboflow(api_key=\"GgExW6M2mEEMfnV6KTpL\")\n",
        "project = rf.workspace(\"gaurigodghase-gmail-com\").project(\"vehicles-openimages-svzce\")\n",
        "dataset = project.version(1).download(\"yolov5\")"
      ],
      "metadata": {
        "id": "wWuKpwBN2vgc"
      },
      "execution_count": null,
      "outputs": []
    },
    {
      "cell_type": "code",
      "source": [
        "# data.yaml 파일 수정\n",
        "from glob import glob\n",
        "\n",
        "# 이미지 경로 list로 넣기\n",
        "train_img_list = glob('./train_bong/images/*.jpg') + glob('./train_bong/images/*.jpeg')\n",
        "valid_img_list = glob('./valid_bong/images/*.jpg') + glob('./valid_bong/images/*.jpeg')\n",
        "\n",
        "\n",
        "# txt 파일에 write\n",
        "with open('./train.txt', 'w') as f:\n",
        "\tf.write('\\n'.join(train_img_list) + '\\n')\n",
        "    \n",
        "with open('./valid.txt', 'w') as f:\n",
        "\tf.write('\\n'.join(valid_img_list) + '\\n')\n"
      ],
      "metadata": {
        "id": "miZmjibC260Q"
      },
      "execution_count": null,
      "outputs": []
    },
    {
      "cell_type": "markdown",
      "source": [
        "**data.yaml 파일 수정**\n",
        "\n",
        "2가지 파라미터를 수정해줘야함\n",
        "\n",
        "1st) train: ________\n",
        "빈칸에 train.txt 파일 경로를 입력해줘야함\n",
        "\n",
        "2nd) val: ________\n",
        "빈칸에 valid.txt 파일 경로를 입력해줘야함\n",
        "\n",
        "파일 경로는 왼쪽 directory 아이콘에서 우클릭하면 경로 복사 가능"
      ],
      "metadata": {
        "id": "xKWZt3Mv3Xny"
      }
    },
    {
      "cell_type": "markdown",
      "source": [
        "**YOLOv5s 학습시키기**\n",
        "\n",
        "1. 기본 source file: train.py\n",
        "2. Parameters : img, batch, epochs, data, cfg, weights, name, nosave, cache\n",
        "\n",
        "**Parameter description**\n",
        "- img: 입력 이미지 크기\n",
        "- batch: 배치 크기\n",
        "- epochs: 학습 epoch 수 (참고: 3000개 이상이 일반적으로 사용됨)\n",
        "- data: data.yaml 파일 경로\n",
        "- cfg: 모델 구성 지정\n",
        "- weights: 가중치에 대한 사용자 정의 경로를 지정 -> **yolov5 공식 github에서 다운로드!!!** -> https://github.com/ultralytics/yolov5/releases\n",
        "- name: 모델이 저장될 폴더 이름\n",
        "- nosave: 최종 체크포인트만 저장\n",
        "- cache: 더 빠른 학습을 위해 이미지를 캐시"
      ],
      "metadata": {
        "id": "GOPSdNbo4AL5"
      }
    },
    {
      "cell_type": "code",
      "source": [
        "# Executing train.py (파라미터 변경해볼것)\n",
        "!python /content/yolov5/train.py --img 320 --batch 16 --epochs 30 --data /content/datasets/data.yaml --weights yolov5s.pt --name result --cfg /content/yolov5/models/yolov5s.yaml"
      ],
      "metadata": {
        "id": "Rj6liabD33vP"
      },
      "execution_count": null,
      "outputs": []
    },
    {
      "cell_type": "code",
      "source": [
        "# 학습 결과 다운로드\n",
        "!zip -r train_result.zip /content/yolov5/runs/train/exp"
      ],
      "metadata": {
        "id": "fl0o6oT-7Hvc"
      },
      "execution_count": null,
      "outputs": []
    },
    {
      "cell_type": "code",
      "source": [
        "# Executing val.py (train.py 실행을 통해 나온 best.pt를 weight로 지정)\n",
        "!python val.py --data \"/content/datasets/data.yaml\" -- weights \"/content/yolov5/runs/train/exp/weights/best.pt\""
      ],
      "metadata": {
        "id": "HloQ8K4S6qyI"
      },
      "execution_count": null,
      "outputs": []
    },
    {
      "cell_type": "code",
      "source": [
        "# 검증 결과 다운로드\n",
        "!zip -r val_result.zip /content/yolov5/runs/val"
      ],
      "metadata": {
        "id": "5rVsODo67Nuz"
      },
      "execution_count": null,
      "outputs": []
    },
    {
      "cell_type": "markdown",
      "source": [
        "**학습한 모델로 예측하기**\n",
        "\n",
        "detect.py 파일의 **--soruce** parameter\n",
        "- 0 : webcam\n",
        "- img.jpg : image\n",
        "- vid.mp4 : video\n",
        "- path/ : directory\n",
        "- path/*.jpg : glob"
      ],
      "metadata": {
        "id": "BE1rtqbM7fOX"
      }
    },
    {
      "cell_type": "code",
      "source": [
        "# Executing detect.py (--source 파라미터 변경해볼것, 현재 예시코드에서는 roboflow dataset으로 설정해놓음)\n",
        "!python detect.py --weights \"/content/yolov5/runs/train/exp/weights/best.pt\" -- source \"/content/datasets/test/images\""
      ],
      "metadata": {
        "id": "cAUe827978cw"
      },
      "execution_count": null,
      "outputs": []
    },
    {
      "cell_type": "code",
      "source": [
        "# 예측 테스트 결과 다운로드\n",
        "!zip -r test_result.zip /content/yolov5/runs/detect/exp\n",
        "\n",
        "# 폴더를 열어보면 class, bounding box가 표시된 detection 결과 이미지가 저장되어 있음"
      ],
      "metadata": {
        "id": "vdf_DTJ78cEu"
      },
      "execution_count": null,
      "outputs": []
    }
  ]
}